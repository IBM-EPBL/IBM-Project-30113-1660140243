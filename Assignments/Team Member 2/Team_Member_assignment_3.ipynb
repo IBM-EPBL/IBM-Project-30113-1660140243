{
 "cells": [
  {
   "cell_type": "markdown",
   "id": "12ac1d18",
   "metadata": {},
   "source": [
    "### Exercises\n",
    "Answer the questions or complete the tasks outlined in bold below, use the specific method described if applicable."
   ]
  },
  {
   "cell_type": "markdown",
   "id": "9a65a399",
   "metadata": {},
   "source": [
    "### 1.  What is 7 to the power of 4?"
   ]
  },
  {
   "cell_type": "code",
   "execution_count": 6,
   "id": "808afaa6",
   "metadata": {},
   "outputs": [
    {
     "name": "stdout",
     "output_type": "stream",
     "text": [
      "2401.0\n"
     ]
    }
   ],
   "source": [
    "print(math.pow(7,4))"
   ]
  },
  {
   "cell_type": "markdown",
   "id": "61cfe09c",
   "metadata": {},
   "source": [
    "### 2. Split this string into a list.\n",
    "\n",
    "s = \"Hi there Sam!\"\n",
    "\n"
   ]
  },
  {
   "cell_type": "code",
   "execution_count": 7,
   "id": "b2f8ffc5",
   "metadata": {},
   "outputs": [
    {
     "data": {
      "text/plain": [
       "['Hi', 'there', 'Sam!']"
      ]
     },
     "execution_count": 7,
     "metadata": {},
     "output_type": "execute_result"
    }
   ],
   "source": [
    "s=\"Hi there Sam!\"\n",
    "s.split()"
   ]
  },
  {
   "cell_type": "markdown",
   "id": "68722484",
   "metadata": {},
   "source": [
    "### 3.Given the variables:\n",
    "\n",
    "planet = \"Earth\"\n",
    "diameter = 12742\n",
    "\n",
    "### Use .format() to print the following string:\n",
    "\n",
    "The diameter of Earth is 12742 kilometers."
   ]
  },
  {
   "cell_type": "code",
   "execution_count": 11,
   "id": "0985eb9d",
   "metadata": {},
   "outputs": [
    {
     "name": "stdout",
     "output_type": "stream",
     "text": [
      "The diameter of Earth is 12742 kilometers.\n"
     ]
    }
   ],
   "source": [
    "planet = \"Earth\" \n",
    "diameter = 12742\n",
    "print(\"The diameter of {} is {} kilometers.\".format(planet,diameter))"
   ]
  },
  {
   "cell_type": "markdown",
   "id": "59adac4a",
   "metadata": {},
   "source": [
    "### 4.Given this nested list, use indexing to grab the word \"hello\""
   ]
  },
  {
   "cell_type": "code",
   "execution_count": 12,
   "id": "624b42d0",
   "metadata": {},
   "outputs": [
    {
     "data": {
      "text/plain": [
       "'hello'"
      ]
     },
     "execution_count": 12,
     "metadata": {},
     "output_type": "execute_result"
    }
   ],
   "source": [
    "nestlst= [1,2,[3,4],[5,[100,200,['hello']],23,11],1,7]\n",
    "nestlst = [1,2,[3,4],[5,[100,200,['hello']],23,11],1,7]\n",
    "nestlst[3][1][2][0]"
   ]
  },
  {
   "cell_type": "markdown",
   "id": "18522369",
   "metadata": {},
   "source": [
    "### 5.Given this nest dictionary grab the word \"hello\". "
   ]
  },
  {
   "cell_type": "code",
   "execution_count": 14,
   "id": "f92ed63d",
   "metadata": {},
   "outputs": [
    {
     "data": {
      "text/plain": [
       "'hello'"
      ]
     },
     "execution_count": 14,
     "metadata": {},
     "output_type": "execute_result"
    }
   ],
   "source": [
    "dic = {'k1':[1,2,3,{'tricky':['oh','man','inception',{'target':[1,2,3,'hello']}]}]}\n",
    "dic = {'k1':[1,2,3,{'tricky':['oh','man','inception',{'target':[1,2,3,'hello']}]}]}\n",
    "dic['k1'][3]['tricky'][3]['target'][3]"
   ]
  },
  {
   "cell_type": "markdown",
   "id": "dbc93169",
   "metadata": {},
   "source": [
    "\n",
    "### 6.What is the main difference between a tuple and a list?\n"
   ]
  },
  {
   "cell_type": "code",
   "execution_count": 15,
   "id": "1ebc4dd7",
   "metadata": {},
   "outputs": [],
   "source": [
    "#Tuple is immutable"
   ]
  },
  {
   "cell_type": "markdown",
   "id": "d736be98",
   "metadata": {},
   "source": [
    "\n",
    "### 7.Create a function that grabs the email website domain from a string in the form:\n",
    "\n",
    "user@domain.com\n",
    "\n",
    "### So for example, passing \"user@domain.com\" would return: domain.com"
   ]
  },
  {
   "cell_type": "code",
   "execution_count": 18,
   "id": "05235b38",
   "metadata": {},
   "outputs": [
    {
     "data": {
      "text/plain": [
       "'domain.com'"
      ]
     },
     "execution_count": 18,
     "metadata": {},
     "output_type": "execute_result"
    }
   ],
   "source": [
    "def  domainGet(email):\n",
    "    return email.split('@')[-1]\n",
    "domainGet('user@domain.com')\n"
   ]
  },
  {
   "cell_type": "markdown",
   "id": "21911396",
   "metadata": {},
   "source": [
    "###  8.Create a basic function that returns True if the word 'dog' is contained in the input string. Don't worry about edge cases like a punctuation being attached to the word dog, but do account for capitalization."
   ]
  },
  {
   "cell_type": "code",
   "execution_count": 19,
   "id": "95b3c295",
   "metadata": {},
   "outputs": [
    {
     "data": {
      "text/plain": [
       "True"
      ]
     },
     "execution_count": 19,
     "metadata": {},
     "output_type": "execute_result"
    }
   ],
   "source": [
    "def findDog(st):\n",
    "    return 'dog'in st.lower().split()\n",
    "findDog('Is there a dog here?')"
   ]
  },
  {
   "cell_type": "markdown",
   "id": "fe7d3026",
   "metadata": {},
   "source": [
    "### 9.Create a function that counts the number of times the word \"dog\" occurs in a string. Again ignore edge cases.\n",
    "\n",
    "\n"
   ]
  },
  {
   "cell_type": "code",
   "execution_count": 21,
   "id": "24d1bbe1",
   "metadata": {},
   "outputs": [
    {
     "data": {
      "text/plain": [
       "2"
      ]
     },
     "execution_count": 21,
     "metadata": {},
     "output_type": "execute_result"
    }
   ],
   "source": [
    "def countDog(st):\n",
    "    count=0\n",
    "    for word in st.lower().split():\n",
    "        if word=='dog':\n",
    "            count +=1\n",
    "    return count\n",
    "countDog('This dog runs faster than other dog dude!')\n"
   ]
  },
  {
   "cell_type": "markdown",
   "id": "f8bd94f9",
   "metadata": {},
   "source": [
    "\n",
    "### 10.Problem\n",
    "You are driving a little too fast, and a police officer stops you. Write a function to return one of 3 possible results: \"No ticket\", \"Small ticket\", or \"Big Ticket\". If your speed is 60 or less, the result is \"No Ticket\". If speed is between 61 and 80 inclusive, the result is \"Small Ticket\". If speed is 81 or more, the result is \"Big Ticket\". Unless it is your birthday (encoded as a boolean value in the parameters of the function) -- on your birthday, your speed can be 5 higher in all cases."
   ]
  },
  {
   "cell_type": "code",
   "execution_count": 22,
   "id": "794a4df9",
   "metadata": {},
   "outputs": [
    {
     "data": {
      "text/plain": [
       "'Big Ticket'"
      ]
     },
     "execution_count": 22,
     "metadata": {},
     "output_type": "execute_result"
    }
   ],
   "source": [
    "\n",
    "def caught_speeding(speed, is_birthday):\n",
    "    \n",
    "    if is_birthday:\n",
    "        speeding = speed - 5\n",
    "    else:\n",
    "        speeding = speed\n",
    "    \n",
    "    if speeding > 80:\n",
    "        return 'Big Ticket'\n",
    "    elif speeding > 60:\n",
    "        return 'Small Ticket'\n",
    "    else:\n",
    "        return 'No Ticket'\n",
    "caught_speeding(81,False)\n"
   ]
  },
  {
   "cell_type": "code",
   "execution_count": 23,
   "id": "0d621123",
   "metadata": {},
   "outputs": [
    {
     "data": {
      "text/plain": [
       "'Small Ticket'"
      ]
     },
     "execution_count": 23,
     "metadata": {},
     "output_type": "execute_result"
    }
   ],
   "source": [
    "caught_speeding(81,True)"
   ]
  },
  {
   "cell_type": "markdown",
   "id": "56021210",
   "metadata": {},
   "source": [
    "### 11.Create an employee list with basic salary values(at least 5 values for 5 employees) and using a for loop retreive each employee salary and calculate total salary expenditure."
   ]
  },
  {
   "cell_type": "code",
   "execution_count": 24,
   "id": "b8f3dd57",
   "metadata": {},
   "outputs": [],
   "source": [
    "employee=[200,400,600,800,1000]"
   ]
  },
  {
   "cell_type": "code",
   "execution_count": 25,
   "id": "c98733d8",
   "metadata": {},
   "outputs": [
    {
     "name": "stdout",
     "output_type": "stream",
     "text": [
      "200\n",
      "400\n",
      "600\n",
      "800\n",
      "1000\n",
      "3000\n"
     ]
    }
   ],
   "source": [
    "\n",
    "sum=0\n",
    "for i in employee:\n",
    "    sum+=i\n",
    "    print(i)\n",
    "print(sum)"
   ]
  },
  {
   "cell_type": "markdown",
   "id": "9adcdb71",
   "metadata": {},
   "source": [
    "\n",
    "### 12.Create two dictionaries in Python:\n",
    "\n",
    "First one to contain fields as Empid, Empname, Basicpay\n",
    "\n",
    "Second dictionary to contain fields as DeptName, DeptId.\n",
    "\n",
    "Combine both dictionaries."
   ]
  },
  {
   "cell_type": "code",
   "execution_count": 27,
   "id": "2cebfdb7",
   "metadata": {},
   "outputs": [
    {
     "name": "stdout",
     "output_type": "stream",
     "text": [
      "{'Empid': '2', 'Empname': 'DeepakRaj', 'Basicpay': '1000', 'DeptName': 'Engineer', 'Deptid': '7110'}\n"
     ]
    }
   ],
   "source": [
    "dict_1={\"Empid\":\"2\",\"Empname\":\"DeepakRaj\",\"Basicpay\":\"1000\"}\n",
    "dict_2={\"DeptName\":\"Engineer\",\"Deptid\":\"7110\"}\n",
    "dict_3={**dict_1,**dict_2}\n",
    "print(dict_3)\n"
   ]
  },
  {
   "cell_type": "code",
   "execution_count": null,
   "id": "a79eaf37",
   "metadata": {},
   "outputs": [],
   "source": []
  }
 ],
 "metadata": {
  "kernelspec": {
   "display_name": "Python 3 (ipykernel)",
   "language": "python",
   "name": "python3"
  },
  "language_info": {
   "codemirror_mode": {
    "name": "ipython",
    "version": 3
   },
   "file_extension": ".py",
   "mimetype": "text/x-python",
   "name": "python",
   "nbconvert_exporter": "python",
   "pygments_lexer": "ipython3",
   "version": "3.9.7"
  }
 },
 "nbformat": 4,
 "nbformat_minor": 5
}
